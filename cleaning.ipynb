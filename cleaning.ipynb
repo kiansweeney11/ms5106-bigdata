{
 "cells": [
  {
   "cell_type": "code",
   "execution_count": 1,
   "id": "a30e9522",
   "metadata": {},
   "outputs": [],
   "source": [
    "import pandas as pd\n",
    "import numpy as np\n",
    "import matplotlib as plt"
   ]
  },
  {
   "cell_type": "code",
   "execution_count": 2,
   "id": "844a49f4",
   "metadata": {},
   "outputs": [],
   "source": [
    "path = \"data/\"\n",
    "file = \"Data.xlsx\"\n",
    "sheet_pos = pd.read_excel(f\"{path}{file}\", sheet_name = \"POS DATA\")\n",
    "sheet_loyal = pd.read_excel(f\"{path}{file}\", sheet_name = \"LOYALTY\")\n",
    "sheet_barcodes = pd.read_excel(f\"{path}{file}\", sheet_name = \"barcodes\")\n",
    "sheet_tax = pd.read_excel(f\"{path}{file}\", sheet_name = \"product taxonomy\")\n",
    "\n",
    "sheet_pos.reset_index(inplace = True, drop = True)\n",
    "sheet_loyal.reset_index(inplace = True, drop = True)\n",
    "sheet_barcodes.reset_index(inplace = True, drop = True)\n",
    "sheet_tax.reset_index(inplace = True, drop = True)"
   ]
  },
  {
   "cell_type": "code",
   "execution_count": 3,
   "id": "a168bef7",
   "metadata": {},
   "outputs": [
    {
     "data": {
      "text/html": [
       "<div>\n",
       "<style scoped>\n",
       "    .dataframe tbody tr th:only-of-type {\n",
       "        vertical-align: middle;\n",
       "    }\n",
       "\n",
       "    .dataframe tbody tr th {\n",
       "        vertical-align: top;\n",
       "    }\n",
       "\n",
       "    .dataframe thead th {\n",
       "        text-align: right;\n",
       "    }\n",
       "</style>\n",
       "<table border=\"1\" class=\"dataframe\">\n",
       "  <thead>\n",
       "    <tr style=\"text-align: right;\">\n",
       "      <th></th>\n",
       "      <th>CardholderID</th>\n",
       "      <th>Age</th>\n",
       "      <th>Gender</th>\n",
       "      <th>MaritalStatus</th>\n",
       "      <th>HouseholdSize</th>\n",
       "      <th>Children</th>\n",
       "    </tr>\n",
       "  </thead>\n",
       "  <tbody>\n",
       "    <tr>\n",
       "      <th>0</th>\n",
       "      <td>9162002273446</td>\n",
       "      <td>51.0</td>\n",
       "      <td>Male</td>\n",
       "      <td>Single (Alone)</td>\n",
       "      <td>1.0</td>\n",
       "      <td>0.0</td>\n",
       "    </tr>\n",
       "    <tr>\n",
       "      <th>1</th>\n",
       "      <td>9164011076155</td>\n",
       "      <td>72.0</td>\n",
       "      <td>Female</td>\n",
       "      <td>NaN</td>\n",
       "      <td>2.0</td>\n",
       "      <td>0.0</td>\n",
       "    </tr>\n",
       "    <tr>\n",
       "      <th>2</th>\n",
       "      <td>9162001049684</td>\n",
       "      <td>60.0</td>\n",
       "      <td>Female</td>\n",
       "      <td>NaN</td>\n",
       "      <td>1.0</td>\n",
       "      <td>0.0</td>\n",
       "    </tr>\n",
       "    <tr>\n",
       "      <th>3</th>\n",
       "      <td>9162005608405</td>\n",
       "      <td>NaN</td>\n",
       "      <td>Female</td>\n",
       "      <td>Married</td>\n",
       "      <td>5.0</td>\n",
       "      <td>NaN</td>\n",
       "    </tr>\n",
       "    <tr>\n",
       "      <th>4</th>\n",
       "      <td>9163002257856</td>\n",
       "      <td>50.0</td>\n",
       "      <td>Female</td>\n",
       "      <td>NaN</td>\n",
       "      <td>1.0</td>\n",
       "      <td>0.0</td>\n",
       "    </tr>\n",
       "  </tbody>\n",
       "</table>\n",
       "</div>"
      ],
      "text/plain": [
       "    CardholderID   Age  Gender   MaritalStatus  HouseholdSize  Children\n",
       "0  9162002273446  51.0    Male  Single (Alone)            1.0       0.0\n",
       "1  9164011076155  72.0  Female             NaN            2.0       0.0\n",
       "2  9162001049684  60.0  Female             NaN            1.0       0.0\n",
       "3  9162005608405   NaN  Female         Married            5.0       NaN\n",
       "4  9163002257856  50.0  Female             NaN            1.0       0.0"
      ]
     },
     "execution_count": 3,
     "metadata": {},
     "output_type": "execute_result"
    }
   ],
   "source": [
    "sheet_loyal.head()"
   ]
  },
  {
   "cell_type": "code",
   "execution_count": 4,
   "id": "5e9d8c77",
   "metadata": {},
   "outputs": [
    {
     "data": {
      "text/html": [
       "<div>\n",
       "<style scoped>\n",
       "    .dataframe tbody tr th:only-of-type {\n",
       "        vertical-align: middle;\n",
       "    }\n",
       "\n",
       "    .dataframe tbody tr th {\n",
       "        vertical-align: top;\n",
       "    }\n",
       "\n",
       "    .dataframe thead th {\n",
       "        text-align: right;\n",
       "    }\n",
       "</style>\n",
       "<table border=\"1\" class=\"dataframe\">\n",
       "  <thead>\n",
       "    <tr style=\"text-align: right;\">\n",
       "      <th></th>\n",
       "      <th>Basket_ID</th>\n",
       "      <th>Date</th>\n",
       "      <th>Barcode</th>\n",
       "      <th>Sum_Units</th>\n",
       "      <th>Sum_Value</th>\n",
       "      <th>Card_ID</th>\n",
       "    </tr>\n",
       "  </thead>\n",
       "  <tbody>\n",
       "    <tr>\n",
       "      <th>0</th>\n",
       "      <td>1103084867</td>\n",
       "      <td>41379</td>\n",
       "      <td>800220505783</td>\n",
       "      <td>2</td>\n",
       "      <td>1.960000</td>\n",
       "      <td>9.160004e+12</td>\n",
       "    </tr>\n",
       "    <tr>\n",
       "      <th>1</th>\n",
       "      <td>1103853519</td>\n",
       "      <td>41381</td>\n",
       "      <td>520139501183</td>\n",
       "      <td>1</td>\n",
       "      <td>5.349993</td>\n",
       "      <td>9.164002e+12</td>\n",
       "    </tr>\n",
       "    <tr>\n",
       "      <th>2</th>\n",
       "      <td>1092750793</td>\n",
       "      <td>41346</td>\n",
       "      <td>520423907421</td>\n",
       "      <td>6</td>\n",
       "      <td>1.740015</td>\n",
       "      <td>9.164013e+12</td>\n",
       "    </tr>\n",
       "    <tr>\n",
       "      <th>3</th>\n",
       "      <td>1106160983</td>\n",
       "      <td>41388</td>\n",
       "      <td>211069400000</td>\n",
       "      <td>1</td>\n",
       "      <td>0.749817</td>\n",
       "      <td>9.162006e+12</td>\n",
       "    </tr>\n",
       "    <tr>\n",
       "      <th>4</th>\n",
       "      <td>1108695491</td>\n",
       "      <td>41395</td>\n",
       "      <td>520286400380</td>\n",
       "      <td>2</td>\n",
       "      <td>0.600000</td>\n",
       "      <td>9.161004e+12</td>\n",
       "    </tr>\n",
       "    <tr>\n",
       "      <th>5</th>\n",
       "      <td>1089674734</td>\n",
       "      <td>41337</td>\n",
       "      <td>212878100000</td>\n",
       "      <td>1</td>\n",
       "      <td>3.808804</td>\n",
       "      <td>9.162007e+12</td>\n",
       "    </tr>\n",
       "    <tr>\n",
       "      <th>6</th>\n",
       "      <td>1100327962</td>\n",
       "      <td>41370</td>\n",
       "      <td>8716266</td>\n",
       "      <td>1</td>\n",
       "      <td>0.740015</td>\n",
       "      <td>9.164013e+12</td>\n",
       "    </tr>\n",
       "    <tr>\n",
       "      <th>7</th>\n",
       "      <td>1105798474</td>\n",
       "      <td>41387</td>\n",
       "      <td>211087700000</td>\n",
       "      <td>1</td>\n",
       "      <td>1.560235</td>\n",
       "      <td>9.162002e+12</td>\n",
       "    </tr>\n",
       "    <tr>\n",
       "      <th>8</th>\n",
       "      <td>1104570471</td>\n",
       "      <td>41383</td>\n",
       "      <td>520441601390</td>\n",
       "      <td>1</td>\n",
       "      <td>0.880000</td>\n",
       "      <td>9.163002e+12</td>\n",
       "    </tr>\n",
       "    <tr>\n",
       "      <th>9</th>\n",
       "      <td>1095466893</td>\n",
       "      <td>41355</td>\n",
       "      <td>520423930028</td>\n",
       "      <td>1</td>\n",
       "      <td>1.460015</td>\n",
       "      <td>NaN</td>\n",
       "    </tr>\n",
       "  </tbody>\n",
       "</table>\n",
       "</div>"
      ],
      "text/plain": [
       "    Basket_ID   Date       Barcode  Sum_Units  Sum_Value       Card_ID\n",
       "0  1103084867  41379  800220505783          2   1.960000  9.160004e+12\n",
       "1  1103853519  41381  520139501183          1   5.349993  9.164002e+12\n",
       "2  1092750793  41346  520423907421          6   1.740015  9.164013e+12\n",
       "3  1106160983  41388  211069400000          1   0.749817  9.162006e+12\n",
       "4  1108695491  41395  520286400380          2   0.600000  9.161004e+12\n",
       "5  1089674734  41337  212878100000          1   3.808804  9.162007e+12\n",
       "6  1100327962  41370       8716266          1   0.740015  9.164013e+12\n",
       "7  1105798474  41387  211087700000          1   1.560235  9.162002e+12\n",
       "8  1104570471  41383  520441601390          1   0.880000  9.163002e+12\n",
       "9  1095466893  41355  520423930028          1   1.460015           NaN"
      ]
     },
     "execution_count": 4,
     "metadata": {},
     "output_type": "execute_result"
    }
   ],
   "source": [
    "sheet_pos.head(10)"
   ]
  },
  {
   "cell_type": "code",
   "execution_count": 5,
   "id": "3c326383",
   "metadata": {},
   "outputs": [
    {
     "data": {
      "text/plain": [
       "9.164002e+12    448\n",
       "9.162002e+12    428\n",
       "9.163002e+12    396\n",
       "9.162000e+12    352\n",
       "9.163002e+12    333\n",
       "               ... \n",
       "9.164014e+12      1\n",
       "9.162001e+12      1\n",
       "9.164013e+12      1\n",
       "9.164002e+12      1\n",
       "9.163002e+12      1\n",
       "Name: Card_ID, Length: 4399, dtype: int64"
      ]
     },
     "execution_count": 5,
     "metadata": {},
     "output_type": "execute_result"
    }
   ],
   "source": [
    "sheet_pos['Card_ID'].value_counts()"
   ]
  },
  {
   "cell_type": "markdown",
   "id": "fc3eb1a7",
   "metadata": {},
   "source": [
    "### Tips Information Quality"
   ]
  },
  {
   "cell_type": "code",
   "execution_count": 6,
   "id": "601e1e8c",
   "metadata": {},
   "outputs": [
    {
     "name": "stdout",
     "output_type": "stream",
     "text": [
      "Size barcodes before faulty values removed: 235474\n",
      "Size barcodes after faulty values removed: 234946\n"
     ]
    }
   ],
   "source": [
    "print(\"Size barcodes before faulty values removed: \" + str(len(sheet_pos.index)))\n",
    "sheet_pos = sheet_pos.loc[sheet_pos['Sum_Units'] >= 0]\n",
    "print(\"Size barcodes after faulty values removed: \" + str(len(sheet_pos.index)))"
   ]
  },
  {
   "cell_type": "code",
   "execution_count": 7,
   "id": "7770626c",
   "metadata": {},
   "outputs": [
    {
     "name": "stdout",
     "output_type": "stream",
     "text": [
      "Size barcodes before faulty values removed: 234946\n",
      "Size barcodes after faulty values removed: 234946\n"
     ]
    }
   ],
   "source": [
    "print(\"Size barcodes before faulty values removed: \" + str(len(sheet_pos.index)))\n",
    "sheet_pos = sheet_pos.loc[sheet_pos['Sum_Value'] >= 0]\n",
    "print(\"Size barcodes after faulty values removed: \" + str(len(sheet_pos.index)))"
   ]
  },
  {
   "cell_type": "code",
   "execution_count": 8,
   "id": "9ded934d",
   "metadata": {},
   "outputs": [
    {
     "name": "stdout",
     "output_type": "stream",
     "text": [
      "Average age with all values is: 49.33173858179078\n"
     ]
    }
   ],
   "source": [
    "print(\"Average age with all values is: \" + str(sheet_loyal['Age'].mean()))"
   ]
  },
  {
   "cell_type": "code",
   "execution_count": 9,
   "id": "de502e07",
   "metadata": {},
   "outputs": [
    {
     "data": {
      "text/html": [
       "<div>\n",
       "<style scoped>\n",
       "    .dataframe tbody tr th:only-of-type {\n",
       "        vertical-align: middle;\n",
       "    }\n",
       "\n",
       "    .dataframe tbody tr th {\n",
       "        vertical-align: top;\n",
       "    }\n",
       "\n",
       "    .dataframe thead th {\n",
       "        text-align: right;\n",
       "    }\n",
       "</style>\n",
       "<table border=\"1\" class=\"dataframe\">\n",
       "  <thead>\n",
       "    <tr style=\"text-align: right;\">\n",
       "      <th></th>\n",
       "      <th>CardholderID</th>\n",
       "      <th>Age</th>\n",
       "      <th>Gender</th>\n",
       "      <th>MaritalStatus</th>\n",
       "      <th>HouseholdSize</th>\n",
       "      <th>Children</th>\n",
       "    </tr>\n",
       "  </thead>\n",
       "  <tbody>\n",
       "    <tr>\n",
       "      <th>535</th>\n",
       "      <td>9163002277687</td>\n",
       "      <td>150.0</td>\n",
       "      <td>Female</td>\n",
       "      <td>NaN</td>\n",
       "      <td>2.0</td>\n",
       "      <td>1.0</td>\n",
       "    </tr>\n",
       "  </tbody>\n",
       "</table>\n",
       "</div>"
      ],
      "text/plain": [
       "      CardholderID    Age  Gender MaritalStatus  HouseholdSize  Children\n",
       "535  9163002277687  150.0  Female           NaN            2.0       1.0"
      ]
     },
     "execution_count": 9,
     "metadata": {},
     "output_type": "execute_result"
    }
   ],
   "source": [
    "sheet_loyal.loc[sheet_loyal['Age'] > 100]"
   ]
  },
  {
   "cell_type": "code",
   "execution_count": 10,
   "id": "c89d528b",
   "metadata": {},
   "outputs": [
    {
     "data": {
      "text/html": [
       "<div>\n",
       "<style scoped>\n",
       "    .dataframe tbody tr th:only-of-type {\n",
       "        vertical-align: middle;\n",
       "    }\n",
       "\n",
       "    .dataframe tbody tr th {\n",
       "        vertical-align: top;\n",
       "    }\n",
       "\n",
       "    .dataframe thead th {\n",
       "        text-align: right;\n",
       "    }\n",
       "</style>\n",
       "<table border=\"1\" class=\"dataframe\">\n",
       "  <thead>\n",
       "    <tr style=\"text-align: right;\">\n",
       "      <th></th>\n",
       "      <th>CardholderID</th>\n",
       "      <th>Age</th>\n",
       "      <th>Gender</th>\n",
       "      <th>MaritalStatus</th>\n",
       "      <th>HouseholdSize</th>\n",
       "      <th>Children</th>\n",
       "    </tr>\n",
       "  </thead>\n",
       "  <tbody>\n",
       "    <tr>\n",
       "      <th>0</th>\n",
       "      <td>9162002273446</td>\n",
       "      <td>51.0</td>\n",
       "      <td>Male</td>\n",
       "      <td>Single (Alone)</td>\n",
       "      <td>1.0</td>\n",
       "      <td>0.0</td>\n",
       "    </tr>\n",
       "    <tr>\n",
       "      <th>1</th>\n",
       "      <td>9164011076155</td>\n",
       "      <td>72.0</td>\n",
       "      <td>Female</td>\n",
       "      <td>NaN</td>\n",
       "      <td>2.0</td>\n",
       "      <td>0.0</td>\n",
       "    </tr>\n",
       "    <tr>\n",
       "      <th>2</th>\n",
       "      <td>9162001049684</td>\n",
       "      <td>60.0</td>\n",
       "      <td>Female</td>\n",
       "      <td>NaN</td>\n",
       "      <td>1.0</td>\n",
       "      <td>0.0</td>\n",
       "    </tr>\n",
       "    <tr>\n",
       "      <th>4</th>\n",
       "      <td>9163002257856</td>\n",
       "      <td>50.0</td>\n",
       "      <td>Female</td>\n",
       "      <td>NaN</td>\n",
       "      <td>1.0</td>\n",
       "      <td>0.0</td>\n",
       "    </tr>\n",
       "    <tr>\n",
       "      <th>5</th>\n",
       "      <td>9163005551142</td>\n",
       "      <td>35.0</td>\n",
       "      <td>Female</td>\n",
       "      <td>NaN</td>\n",
       "      <td>2.0</td>\n",
       "      <td>1.0</td>\n",
       "    </tr>\n",
       "    <tr>\n",
       "      <th>...</th>\n",
       "      <td>...</td>\n",
       "      <td>...</td>\n",
       "      <td>...</td>\n",
       "      <td>...</td>\n",
       "      <td>...</td>\n",
       "      <td>...</td>\n",
       "    </tr>\n",
       "    <tr>\n",
       "      <th>191118</th>\n",
       "      <td>9164002118581</td>\n",
       "      <td>74.0</td>\n",
       "      <td>Female</td>\n",
       "      <td>NaN</td>\n",
       "      <td>2.0</td>\n",
       "      <td>0.0</td>\n",
       "    </tr>\n",
       "    <tr>\n",
       "      <th>191121</th>\n",
       "      <td>9164007988257</td>\n",
       "      <td>33.0</td>\n",
       "      <td>Female</td>\n",
       "      <td>NaN</td>\n",
       "      <td>1.0</td>\n",
       "      <td>0.0</td>\n",
       "    </tr>\n",
       "    <tr>\n",
       "      <th>191122</th>\n",
       "      <td>9163001180865</td>\n",
       "      <td>62.0</td>\n",
       "      <td>Male</td>\n",
       "      <td>Single (Alone)</td>\n",
       "      <td>1.0</td>\n",
       "      <td>0.0</td>\n",
       "    </tr>\n",
       "    <tr>\n",
       "      <th>191124</th>\n",
       "      <td>9160000248237</td>\n",
       "      <td>75.0</td>\n",
       "      <td>Male</td>\n",
       "      <td>Married</td>\n",
       "      <td>1.0</td>\n",
       "      <td>0.0</td>\n",
       "    </tr>\n",
       "    <tr>\n",
       "      <th>191125</th>\n",
       "      <td>9162008409016</td>\n",
       "      <td>49.0</td>\n",
       "      <td>Female</td>\n",
       "      <td>Married</td>\n",
       "      <td>4.0</td>\n",
       "      <td>2.0</td>\n",
       "    </tr>\n",
       "  </tbody>\n",
       "</table>\n",
       "<p>110152 rows × 6 columns</p>\n",
       "</div>"
      ],
      "text/plain": [
       "         CardholderID   Age  Gender   MaritalStatus  HouseholdSize  Children\n",
       "0       9162002273446  51.0    Male  Single (Alone)            1.0       0.0\n",
       "1       9164011076155  72.0  Female             NaN            2.0       0.0\n",
       "2       9162001049684  60.0  Female             NaN            1.0       0.0\n",
       "4       9163002257856  50.0  Female             NaN            1.0       0.0\n",
       "5       9163005551142  35.0  Female             NaN            2.0       1.0\n",
       "...               ...   ...     ...             ...            ...       ...\n",
       "191118  9164002118581  74.0  Female             NaN            2.0       0.0\n",
       "191121  9164007988257  33.0  Female             NaN            1.0       0.0\n",
       "191122  9163001180865  62.0    Male  Single (Alone)            1.0       0.0\n",
       "191124  9160000248237  75.0    Male         Married            1.0       0.0\n",
       "191125  9162008409016  49.0  Female         Married            4.0       2.0\n",
       "\n",
       "[110152 rows x 6 columns]"
      ]
     },
     "execution_count": 10,
     "metadata": {},
     "output_type": "execute_result"
    }
   ],
   "source": [
    "sheet_loyal.loc[sheet_loyal['Age'] < 100]"
   ]
  },
  {
   "cell_type": "code",
   "execution_count": 11,
   "id": "ca972839",
   "metadata": {},
   "outputs": [
    {
     "data": {
      "text/html": [
       "<div>\n",
       "<style scoped>\n",
       "    .dataframe tbody tr th:only-of-type {\n",
       "        vertical-align: middle;\n",
       "    }\n",
       "\n",
       "    .dataframe tbody tr th {\n",
       "        vertical-align: top;\n",
       "    }\n",
       "\n",
       "    .dataframe thead th {\n",
       "        text-align: right;\n",
       "    }\n",
       "</style>\n",
       "<table border=\"1\" class=\"dataframe\">\n",
       "  <thead>\n",
       "    <tr style=\"text-align: right;\">\n",
       "      <th></th>\n",
       "      <th>CardholderID</th>\n",
       "      <th>Age</th>\n",
       "      <th>Gender</th>\n",
       "      <th>MaritalStatus</th>\n",
       "      <th>HouseholdSize</th>\n",
       "      <th>Children</th>\n",
       "    </tr>\n",
       "  </thead>\n",
       "  <tbody>\n",
       "    <tr>\n",
       "      <th>2158</th>\n",
       "      <td>9162003717673</td>\n",
       "      <td>47.0</td>\n",
       "      <td>Female</td>\n",
       "      <td>Married</td>\n",
       "      <td>33.0</td>\n",
       "      <td>2.0</td>\n",
       "    </tr>\n",
       "    <tr>\n",
       "      <th>7774</th>\n",
       "      <td>9164011952558</td>\n",
       "      <td>32.0</td>\n",
       "      <td>Male</td>\n",
       "      <td>NaN</td>\n",
       "      <td>23.0</td>\n",
       "      <td>NaN</td>\n",
       "    </tr>\n",
       "    <tr>\n",
       "      <th>8510</th>\n",
       "      <td>9164011040491</td>\n",
       "      <td>NaN</td>\n",
       "      <td>Male</td>\n",
       "      <td>NaN</td>\n",
       "      <td>12.0</td>\n",
       "      <td>2.0</td>\n",
       "    </tr>\n",
       "    <tr>\n",
       "      <th>12536</th>\n",
       "      <td>9162003563898</td>\n",
       "      <td>NaN</td>\n",
       "      <td>Male</td>\n",
       "      <td>NaN</td>\n",
       "      <td>14.0</td>\n",
       "      <td>NaN</td>\n",
       "    </tr>\n",
       "    <tr>\n",
       "      <th>12901</th>\n",
       "      <td>9162000999973</td>\n",
       "      <td>92.0</td>\n",
       "      <td>Male</td>\n",
       "      <td>Married</td>\n",
       "      <td>11.0</td>\n",
       "      <td>2.0</td>\n",
       "    </tr>\n",
       "    <tr>\n",
       "      <th>...</th>\n",
       "      <td>...</td>\n",
       "      <td>...</td>\n",
       "      <td>...</td>\n",
       "      <td>...</td>\n",
       "      <td>...</td>\n",
       "      <td>...</td>\n",
       "    </tr>\n",
       "    <tr>\n",
       "      <th>188008</th>\n",
       "      <td>9164001651553</td>\n",
       "      <td>63.0</td>\n",
       "      <td>Female</td>\n",
       "      <td>NaN</td>\n",
       "      <td>12.0</td>\n",
       "      <td>NaN</td>\n",
       "    </tr>\n",
       "    <tr>\n",
       "      <th>188232</th>\n",
       "      <td>9162000534037</td>\n",
       "      <td>65.0</td>\n",
       "      <td>Female</td>\n",
       "      <td>Single (Family)</td>\n",
       "      <td>12.0</td>\n",
       "      <td>3.0</td>\n",
       "    </tr>\n",
       "    <tr>\n",
       "      <th>190436</th>\n",
       "      <td>9162001048229</td>\n",
       "      <td>55.0</td>\n",
       "      <td>Male</td>\n",
       "      <td>Married</td>\n",
       "      <td>33.0</td>\n",
       "      <td>2.0</td>\n",
       "    </tr>\n",
       "    <tr>\n",
       "      <th>190617</th>\n",
       "      <td>9163003795753</td>\n",
       "      <td>35.0</td>\n",
       "      <td>Female</td>\n",
       "      <td>NaN</td>\n",
       "      <td>30.0</td>\n",
       "      <td>2.0</td>\n",
       "    </tr>\n",
       "    <tr>\n",
       "      <th>190824</th>\n",
       "      <td>9160003253245</td>\n",
       "      <td>43.0</td>\n",
       "      <td>Female</td>\n",
       "      <td>NaN</td>\n",
       "      <td>13.0</td>\n",
       "      <td>NaN</td>\n",
       "    </tr>\n",
       "  </tbody>\n",
       "</table>\n",
       "<p>94 rows × 6 columns</p>\n",
       "</div>"
      ],
      "text/plain": [
       "         CardholderID   Age  Gender    MaritalStatus  HouseholdSize  Children\n",
       "2158    9162003717673  47.0  Female          Married           33.0       2.0\n",
       "7774    9164011952558  32.0    Male              NaN           23.0       NaN\n",
       "8510    9164011040491   NaN    Male              NaN           12.0       2.0\n",
       "12536   9162003563898   NaN    Male              NaN           14.0       NaN\n",
       "12901   9162000999973  92.0    Male          Married           11.0       2.0\n",
       "...               ...   ...     ...              ...            ...       ...\n",
       "188008  9164001651553  63.0  Female              NaN           12.0       NaN\n",
       "188232  9162000534037  65.0  Female  Single (Family)           12.0       3.0\n",
       "190436  9162001048229  55.0    Male          Married           33.0       2.0\n",
       "190617  9163003795753  35.0  Female              NaN           30.0       2.0\n",
       "190824  9160003253245  43.0  Female              NaN           13.0       NaN\n",
       "\n",
       "[94 rows x 6 columns]"
      ]
     },
     "execution_count": 11,
     "metadata": {},
     "output_type": "execute_result"
    }
   ],
   "source": [
    "sheet_loyal.loc[sheet_loyal['HouseholdSize'] > 10]"
   ]
  },
  {
   "cell_type": "code",
   "execution_count": 12,
   "id": "6993276a",
   "metadata": {},
   "outputs": [
    {
     "data": {
      "text/html": [
       "<div>\n",
       "<style scoped>\n",
       "    .dataframe tbody tr th:only-of-type {\n",
       "        vertical-align: middle;\n",
       "    }\n",
       "\n",
       "    .dataframe tbody tr th {\n",
       "        vertical-align: top;\n",
       "    }\n",
       "\n",
       "    .dataframe thead th {\n",
       "        text-align: right;\n",
       "    }\n",
       "</style>\n",
       "<table border=\"1\" class=\"dataframe\">\n",
       "  <thead>\n",
       "    <tr style=\"text-align: right;\">\n",
       "      <th></th>\n",
       "      <th>CardholderID</th>\n",
       "      <th>Age</th>\n",
       "      <th>Gender</th>\n",
       "      <th>MaritalStatus</th>\n",
       "      <th>HouseholdSize</th>\n",
       "      <th>Children</th>\n",
       "    </tr>\n",
       "  </thead>\n",
       "  <tbody>\n",
       "  </tbody>\n",
       "</table>\n",
       "</div>"
      ],
      "text/plain": [
       "Empty DataFrame\n",
       "Columns: [CardholderID, Age, Gender, MaritalStatus, HouseholdSize, Children]\n",
       "Index: []"
      ]
     },
     "execution_count": 12,
     "metadata": {},
     "output_type": "execute_result"
    }
   ],
   "source": [
    "sheet_loyal.loc[sheet_loyal['Children'] > 8]"
   ]
  },
  {
   "cell_type": "code",
   "execution_count": 13,
   "id": "04705dd1",
   "metadata": {},
   "outputs": [
    {
     "name": "stdout",
     "output_type": "stream",
     "text": [
      "Size loyalty before faulty values removed: (191129, 6)\n",
      "Size loyalty after faulty values removed: (171940, 6)\n"
     ]
    }
   ],
   "source": [
    "print(\"Size loyalty before faulty values removed: \" + str(sheet_loyal.shape))\n",
    "sheet_loyal = sheet_loyal.loc[sheet_loyal['HouseholdSize'] <= 10]\n",
    "print(\"Size loyalty after faulty values removed: \" + str(sheet_loyal.shape))"
   ]
  },
  {
   "cell_type": "code",
   "execution_count": 14,
   "id": "c96edfb8",
   "metadata": {},
   "outputs": [
    {
     "data": {
      "text/html": [
       "<div>\n",
       "<style scoped>\n",
       "    .dataframe tbody tr th:only-of-type {\n",
       "        vertical-align: middle;\n",
       "    }\n",
       "\n",
       "    .dataframe tbody tr th {\n",
       "        vertical-align: top;\n",
       "    }\n",
       "\n",
       "    .dataframe thead th {\n",
       "        text-align: right;\n",
       "    }\n",
       "</style>\n",
       "<table border=\"1\" class=\"dataframe\">\n",
       "  <thead>\n",
       "    <tr style=\"text-align: right;\">\n",
       "      <th></th>\n",
       "      <th>CardholderID</th>\n",
       "      <th>Age</th>\n",
       "      <th>Gender</th>\n",
       "      <th>MaritalStatus</th>\n",
       "      <th>HouseholdSize</th>\n",
       "      <th>Children</th>\n",
       "    </tr>\n",
       "  </thead>\n",
       "  <tbody>\n",
       "    <tr>\n",
       "      <th>0</th>\n",
       "      <td>9162002273446</td>\n",
       "      <td>51.0</td>\n",
       "      <td>Male</td>\n",
       "      <td>Single (Alone)</td>\n",
       "      <td>1.0</td>\n",
       "      <td>0.0</td>\n",
       "    </tr>\n",
       "    <tr>\n",
       "      <th>1</th>\n",
       "      <td>9164011076155</td>\n",
       "      <td>72.0</td>\n",
       "      <td>Female</td>\n",
       "      <td>NaN</td>\n",
       "      <td>2.0</td>\n",
       "      <td>0.0</td>\n",
       "    </tr>\n",
       "    <tr>\n",
       "      <th>2</th>\n",
       "      <td>9162001049684</td>\n",
       "      <td>60.0</td>\n",
       "      <td>Female</td>\n",
       "      <td>NaN</td>\n",
       "      <td>1.0</td>\n",
       "      <td>0.0</td>\n",
       "    </tr>\n",
       "    <tr>\n",
       "      <th>3</th>\n",
       "      <td>9162005608405</td>\n",
       "      <td>NaN</td>\n",
       "      <td>Female</td>\n",
       "      <td>Married</td>\n",
       "      <td>5.0</td>\n",
       "      <td>NaN</td>\n",
       "    </tr>\n",
       "    <tr>\n",
       "      <th>4</th>\n",
       "      <td>9163002257856</td>\n",
       "      <td>50.0</td>\n",
       "      <td>Female</td>\n",
       "      <td>NaN</td>\n",
       "      <td>1.0</td>\n",
       "      <td>0.0</td>\n",
       "    </tr>\n",
       "  </tbody>\n",
       "</table>\n",
       "</div>"
      ],
      "text/plain": [
       "    CardholderID   Age  Gender   MaritalStatus  HouseholdSize  Children\n",
       "0  9162002273446  51.0    Male  Single (Alone)            1.0       0.0\n",
       "1  9164011076155  72.0  Female             NaN            2.0       0.0\n",
       "2  9162001049684  60.0  Female             NaN            1.0       0.0\n",
       "3  9162005608405   NaN  Female         Married            5.0       NaN\n",
       "4  9163002257856  50.0  Female             NaN            1.0       0.0"
      ]
     },
     "execution_count": 14,
     "metadata": {},
     "output_type": "execute_result"
    }
   ],
   "source": [
    "sheet_loyal.head()"
   ]
  },
  {
   "cell_type": "code",
   "execution_count": 15,
   "id": "51231df4",
   "metadata": {},
   "outputs": [
    {
     "name": "stdout",
     "output_type": "stream",
     "text": [
      "Size loyalty before faulty household values removed: (171940, 6)\n",
      "Size loyalty after faulty household values removed: (109915, 6)\n"
     ]
    }
   ],
   "source": [
    "print(\"Size loyalty before faulty household values removed: \" + str(sheet_loyal.shape))\n",
    "sheet_loyal = sheet_loyal.loc[sheet_loyal['Age'] < 100]\n",
    "print(\"Size loyalty after faulty household values removed: \" + str(sheet_loyal.shape))"
   ]
  },
  {
   "cell_type": "code",
   "execution_count": 16,
   "id": "3105028e",
   "metadata": {},
   "outputs": [
    {
     "name": "stdout",
     "output_type": "stream",
     "text": [
      "Average age with removed values is: 49.33346676977665\n"
     ]
    }
   ],
   "source": [
    "print(\"Average age with removed values is: \" + str(sheet_loyal['Age'].mean()))"
   ]
  },
  {
   "cell_type": "code",
   "execution_count": 17,
   "id": "88188483",
   "metadata": {},
   "outputs": [
    {
     "name": "stdout",
     "output_type": "stream",
     "text": [
      "Number of values to be removed: 283\n",
      "Size barcodes before faulty values removed: 9322\n",
      "Size barcodes after faulty values removed: 9039\n"
     ]
    }
   ],
   "source": [
    "df1 = sheet_barcodes.copy()\n",
    "df1['Barcode'] = df1['Barcode'].astype('str')\n",
    "### barcodes must be length 12\n",
    "mask = (df1['Barcode'].str.len() != 12)\n",
    "rm = df1.loc[mask]\n",
    "rm1 = list(rm['Barcode'])\n",
    "print(\"Number of values to be removed: \" + str(len(rm1)))\n",
    "print(\"Size barcodes before faulty values removed: \" + str(len(sheet_barcodes.index)))\n",
    "sheet_barcodes = df1[~df1['Barcode'].isin(rm1)]\n",
    "print(\"Size barcodes after faulty values removed: \" + str(len(sheet_barcodes.index)))"
   ]
  },
  {
   "cell_type": "markdown",
   "id": "fbb040a5",
   "metadata": {},
   "source": [
    "### Check Nulls in Dataframes"
   ]
  },
  {
   "cell_type": "code",
   "execution_count": 18,
   "id": "aaff1099",
   "metadata": {},
   "outputs": [],
   "source": [
    "def check_nulls(result):    \n",
    "    features_with_na = [features for features in result.columns if result[features].isnull().sum() > 0]\n",
    "\n",
    "    for feature in features_with_na: \n",
    "        print(feature, np.round(result[feature].isnull().mean(), 4) * 100, '% missing values')\n",
    "        print(features_with_na)"
   ]
  },
  {
   "cell_type": "code",
   "execution_count": 19,
   "id": "023499b2",
   "metadata": {},
   "outputs": [
    {
     "name": "stdout",
     "output_type": "stream",
     "text": [
      "Card_ID 36.76 % missing values\n",
      "['Card_ID']\n"
     ]
    }
   ],
   "source": [
    "check_nulls(sheet_pos)\n",
    "### these are non card values\n",
    "### split up into card and non card POS data?"
   ]
  },
  {
   "cell_type": "code",
   "execution_count": 20,
   "id": "0458ecc2",
   "metadata": {},
   "outputs": [
    {
     "name": "stdout",
     "output_type": "stream",
     "text": [
      "MaritalStatus 67.27 % missing values\n",
      "['MaritalStatus', 'Children']\n",
      "Children 13.669999999999998 % missing values\n",
      "['MaritalStatus', 'Children']\n"
     ]
    }
   ],
   "source": [
    "check_nulls(sheet_loyal)"
   ]
  },
  {
   "cell_type": "code",
   "execution_count": 21,
   "id": "9f436010",
   "metadata": {},
   "outputs": [],
   "source": [
    "check_nulls(sheet_barcodes)\n",
    "### no nulls"
   ]
  },
  {
   "cell_type": "code",
   "execution_count": 22,
   "id": "84078fda",
   "metadata": {},
   "outputs": [],
   "source": [
    "check_nulls(sheet_tax)\n",
    "### no nulls"
   ]
  },
  {
   "cell_type": "code",
   "execution_count": 23,
   "id": "160563c7",
   "metadata": {},
   "outputs": [
    {
     "name": "stdout",
     "output_type": "stream",
     "text": [
      "Loyalty data size is: 659490\n",
      "POS data size is: 1409676\n"
     ]
    }
   ],
   "source": [
    "print(\"Loyalty data size is: \" + str(sheet_loyal.size))\n",
    "print(\"POS data size is: \" + str(sheet_pos.size))"
   ]
  },
  {
   "cell_type": "markdown",
   "id": "c5efe9f5",
   "metadata": {},
   "source": [
    "There is quite a significant number of null values here between all columns in the POS and Loyalty data, in particularly the loyalty data. Removing these can lead to lack of variance in data among others but some of these may not be useful for relevant information. The \"CARD_ID\" column in the POS data doesn't really provide any information and the corresponding values for rows with null values are invalid (negative values) so these null values can be removed. The Loyalty data is more complex however. Some columns have huge amounts of null values (Marital Status has over 80% nulls) and if we drop these values we could potentially lose valuable information. We could initially drop all these values but after some analysis and clustering we could decide to drop on a subset of columns and remove columns such as marital status with a high percentage of null values."
   ]
  },
  {
   "cell_type": "code",
   "execution_count": 24,
   "id": "b42f6874",
   "metadata": {},
   "outputs": [],
   "source": [
    "#sheet_loyal.dropna(inplace = True)"
   ]
  },
  {
   "cell_type": "code",
   "execution_count": 25,
   "id": "80c85481",
   "metadata": {},
   "outputs": [
    {
     "name": "stdout",
     "output_type": "stream",
     "text": [
      "Loyalty data size after dropping nulls is: 659490\n"
     ]
    }
   ],
   "source": [
    "print(\"Loyalty data size after dropping nulls is: \" + str(sheet_loyal.size))"
   ]
  },
  {
   "cell_type": "code",
   "execution_count": 26,
   "id": "e34bc93d",
   "metadata": {},
   "outputs": [
    {
     "data": {
      "text/html": [
       "<div>\n",
       "<style scoped>\n",
       "    .dataframe tbody tr th:only-of-type {\n",
       "        vertical-align: middle;\n",
       "    }\n",
       "\n",
       "    .dataframe tbody tr th {\n",
       "        vertical-align: top;\n",
       "    }\n",
       "\n",
       "    .dataframe thead th {\n",
       "        text-align: right;\n",
       "    }\n",
       "</style>\n",
       "<table border=\"1\" class=\"dataframe\">\n",
       "  <thead>\n",
       "    <tr style=\"text-align: right;\">\n",
       "      <th></th>\n",
       "      <th>Basket_ID</th>\n",
       "      <th>Date</th>\n",
       "      <th>Barcode</th>\n",
       "      <th>Sum_Units</th>\n",
       "      <th>Sum_Value</th>\n",
       "      <th>Card_ID</th>\n",
       "    </tr>\n",
       "  </thead>\n",
       "  <tbody>\n",
       "    <tr>\n",
       "      <th>0</th>\n",
       "      <td>1103084867</td>\n",
       "      <td>41379</td>\n",
       "      <td>800220505783</td>\n",
       "      <td>2</td>\n",
       "      <td>1.960000</td>\n",
       "      <td>9.160004e+12</td>\n",
       "    </tr>\n",
       "    <tr>\n",
       "      <th>1</th>\n",
       "      <td>1103853519</td>\n",
       "      <td>41381</td>\n",
       "      <td>520139501183</td>\n",
       "      <td>1</td>\n",
       "      <td>5.349993</td>\n",
       "      <td>9.164002e+12</td>\n",
       "    </tr>\n",
       "    <tr>\n",
       "      <th>2</th>\n",
       "      <td>1092750793</td>\n",
       "      <td>41346</td>\n",
       "      <td>520423907421</td>\n",
       "      <td>6</td>\n",
       "      <td>1.740015</td>\n",
       "      <td>9.164013e+12</td>\n",
       "    </tr>\n",
       "    <tr>\n",
       "      <th>3</th>\n",
       "      <td>1106160983</td>\n",
       "      <td>41388</td>\n",
       "      <td>211069400000</td>\n",
       "      <td>1</td>\n",
       "      <td>0.749817</td>\n",
       "      <td>9.162006e+12</td>\n",
       "    </tr>\n",
       "    <tr>\n",
       "      <th>4</th>\n",
       "      <td>1108695491</td>\n",
       "      <td>41395</td>\n",
       "      <td>520286400380</td>\n",
       "      <td>2</td>\n",
       "      <td>0.600000</td>\n",
       "      <td>9.161004e+12</td>\n",
       "    </tr>\n",
       "  </tbody>\n",
       "</table>\n",
       "</div>"
      ],
      "text/plain": [
       "    Basket_ID   Date       Barcode  Sum_Units  Sum_Value       Card_ID\n",
       "0  1103084867  41379  800220505783          2   1.960000  9.160004e+12\n",
       "1  1103853519  41381  520139501183          1   5.349993  9.164002e+12\n",
       "2  1092750793  41346  520423907421          6   1.740015  9.164013e+12\n",
       "3  1106160983  41388  211069400000          1   0.749817  9.162006e+12\n",
       "4  1108695491  41395  520286400380          2   0.600000  9.161004e+12"
      ]
     },
     "execution_count": 26,
     "metadata": {},
     "output_type": "execute_result"
    }
   ],
   "source": [
    "sheet_pos_card = sheet_pos[sheet_pos[['Card_ID']].notnull().all(1)]\n",
    "sheet_pos_card.head()"
   ]
  },
  {
   "cell_type": "code",
   "execution_count": 27,
   "id": "9a043d97",
   "metadata": {},
   "outputs": [
    {
     "name": "stderr",
     "output_type": "stream",
     "text": [
      "C:\\Users\\user\\anaconda3\\lib\\site-packages\\pandas\\core\\frame.py:4906: SettingWithCopyWarning: \n",
      "A value is trying to be set on a copy of a slice from a DataFrame\n",
      "\n",
      "See the caveats in the documentation: https://pandas.pydata.org/pandas-docs/stable/user_guide/indexing.html#returning-a-view-versus-a-copy\n",
      "  return super().drop(\n"
     ]
    },
    {
     "data": {
      "text/html": [
       "<div>\n",
       "<style scoped>\n",
       "    .dataframe tbody tr th:only-of-type {\n",
       "        vertical-align: middle;\n",
       "    }\n",
       "\n",
       "    .dataframe tbody tr th {\n",
       "        vertical-align: top;\n",
       "    }\n",
       "\n",
       "    .dataframe thead th {\n",
       "        text-align: right;\n",
       "    }\n",
       "</style>\n",
       "<table border=\"1\" class=\"dataframe\">\n",
       "  <thead>\n",
       "    <tr style=\"text-align: right;\">\n",
       "      <th></th>\n",
       "      <th>Basket_ID</th>\n",
       "      <th>Date</th>\n",
       "      <th>Barcode</th>\n",
       "      <th>Sum_Units</th>\n",
       "      <th>Sum_Value</th>\n",
       "    </tr>\n",
       "  </thead>\n",
       "  <tbody>\n",
       "    <tr>\n",
       "      <th>9</th>\n",
       "      <td>1095466893</td>\n",
       "      <td>41355</td>\n",
       "      <td>520423930028</td>\n",
       "      <td>1</td>\n",
       "      <td>1.460015</td>\n",
       "    </tr>\n",
       "    <tr>\n",
       "      <th>13</th>\n",
       "      <td>1093956996</td>\n",
       "      <td>41349</td>\n",
       "      <td>213227800000</td>\n",
       "      <td>1</td>\n",
       "      <td>1.991343</td>\n",
       "    </tr>\n",
       "    <tr>\n",
       "      <th>14</th>\n",
       "      <td>1099544322</td>\n",
       "      <td>41368</td>\n",
       "      <td>520423932241</td>\n",
       "      <td>1</td>\n",
       "      <td>0.850007</td>\n",
       "    </tr>\n",
       "    <tr>\n",
       "      <th>16</th>\n",
       "      <td>1101537793</td>\n",
       "      <td>41374</td>\n",
       "      <td>520423929487</td>\n",
       "      <td>1</td>\n",
       "      <td>1.690007</td>\n",
       "    </tr>\n",
       "    <tr>\n",
       "      <th>18</th>\n",
       "      <td>1090426738</td>\n",
       "      <td>41339</td>\n",
       "      <td>520100507417</td>\n",
       "      <td>1</td>\n",
       "      <td>1.500015</td>\n",
       "    </tr>\n",
       "  </tbody>\n",
       "</table>\n",
       "</div>"
      ],
      "text/plain": [
       "     Basket_ID   Date       Barcode  Sum_Units  Sum_Value\n",
       "9   1095466893  41355  520423930028          1   1.460015\n",
       "13  1093956996  41349  213227800000          1   1.991343\n",
       "14  1099544322  41368  520423932241          1   0.850007\n",
       "16  1101537793  41374  520423929487          1   1.690007\n",
       "18  1090426738  41339  520100507417          1   1.500015"
      ]
     },
     "execution_count": 27,
     "metadata": {},
     "output_type": "execute_result"
    }
   ],
   "source": [
    "sheet_pos_not_card = sheet_pos[~sheet_pos[['Card_ID']].notnull().all(1)]\n",
    "sheet_pos_not_card.drop(columns = ['Card_ID'], inplace = True)\n",
    "sheet_pos_not_card.head()"
   ]
  },
  {
   "cell_type": "code",
   "execution_count": 28,
   "id": "6071c037",
   "metadata": {},
   "outputs": [],
   "source": [
    "with pd.ExcelWriter('data/cleaned-data.xlsx') as writer:  \n",
    "    sheet_pos_card.to_excel(writer, sheet_name = 'POS Card Data', index = False)\n",
    "    sheet_pos_not_card.to_excel(writer, sheet_name = 'POS Non Card Data', index = False)\n",
    "    sheet_loyal.to_excel(writer, sheet_name = 'Loyalty', index = False)\n",
    "    sheet_barcodes.to_excel(writer, sheet_name = 'Barcodes', index = False)\n",
    "    sheet_tax.to_excel(writer, sheet_name = 'Product Taxonomy', index = False)"
   ]
  }
 ],
 "metadata": {
  "kernelspec": {
   "display_name": "Python 3 (ipykernel)",
   "language": "python",
   "name": "python3"
  },
  "language_info": {
   "codemirror_mode": {
    "name": "ipython",
    "version": 3
   },
   "file_extension": ".py",
   "mimetype": "text/x-python",
   "name": "python",
   "nbconvert_exporter": "python",
   "pygments_lexer": "ipython3",
   "version": "3.8.12"
  }
 },
 "nbformat": 4,
 "nbformat_minor": 5
}
