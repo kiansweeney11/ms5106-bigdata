{
 "cells": [
  {
   "cell_type": "code",
   "execution_count": 43,
   "metadata": {},
   "outputs": [
    {
     "name": "stdout",
     "output_type": "stream",
     "text": [
      "Success\n"
     ]
    }
   ],
   "source": [
    "import pandas as pd\n",
    "\n",
    "\n",
    "card_data = pd.read_excel(\"cleaned-data.xlsx\", sheet_name=\"POS Card Data\")\n",
    "loyalty_data = pd.read_excel(\"cleaned-data.xlsx\", sheet_name=\"Loyalty\")\n",
    "\n",
    "\n",
    "merged_data = pd.merge(card_data, loyalty_data, left_on=\"Card_ID\", right_on=\"CardholderID\")\n",
    "\n",
    "\n",
    "merged_data.drop(\"CardholderID\", axis=1, inplace=True)\n",
    "\n",
    "\n",
    "barcode_data = pd.read_excel(\"cleaned-data.xlsx\", sheet_name=\"Barcodes\")\n",
    "\n",
    "\n",
    "product_data = pd.merge(merged_data, barcode_data, on=\"Barcode\")\n",
    "\n",
    "\n",
    "taxonomy_data = pd.read_excel(\"cleaned-data.xlsx\", sheet_name=\"Product Taxonomy\")\n",
    "\n",
    "\n",
    "final_data = pd.merge(product_data, taxonomy_data, on=[\"CategoryA\", \"CategoryB\", \"CategoryC\", \"CategoryD\"])\n",
    "\n",
    "\n",
    "#final_data.to_csv(\"merged-data-Card.csv\", index=False)\n",
    "print(\"Success\")\n"
   ]
  },
  {
   "cell_type": "code",
   "execution_count": 44,
   "metadata": {},
   "outputs": [
    {
     "name": "stdout",
     "output_type": "stream",
     "text": [
      "Success\n"
     ]
    }
   ],
   "source": [
    "import pandas as pd\n",
    "\n",
    "\n",
    "barcodes = pd.read_excel(\"cleaned-data.xlsx\", sheet_name=\"Barcodes\")\n",
    "taxonomy = pd.read_excel(\"cleaned-data.xlsx\", sheet_name=\"Product Taxonomy\")\n",
    "\n",
    "\n",
    "merged_barcodes = pd.merge(barcodes, taxonomy, on=[\"CategoryA\", \"CategoryB\", \"CategoryC\", \"CategoryD\"])\n",
    "\n",
    "\n",
    "pos_data = pd.read_excel(\"cleaned-data.xlsx\", sheet_name=\"POS Non Card Data\")\n",
    "\n",
    "\n",
    "merged_data = pd.merge(pos_data, merged_barcodes, on=\"Barcode\")\n",
    "\n",
    "\n",
    "#merged_data.to_csv(\"merged-data-Non-Card.csv\", index=False)\n",
    "print(\"Success\")"
   ]
  },
  {
   "attachments": {},
   "cell_type": "markdown",
   "metadata": {},
   "source": [
    "The 2 CSV files were then manually appended, the Card_ID column in the combined file for POS Non Card data has 0 in it for all instances"
   ]
  }
 ],
 "metadata": {
  "kernelspec": {
   "display_name": "Python 3",
   "language": "python",
   "name": "python3"
  },
  "language_info": {
   "codemirror_mode": {
    "name": "ipython",
    "version": 3
   },
   "file_extension": ".py",
   "mimetype": "text/x-python",
   "name": "python",
   "nbconvert_exporter": "python",
   "pygments_lexer": "ipython3",
   "version": "3.11.1"
  },
  "orig_nbformat": 4
 },
 "nbformat": 4,
 "nbformat_minor": 2
}
